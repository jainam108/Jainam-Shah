{
 "cells": [
  {
   "cell_type": "markdown",
   "metadata": {},
   "source": [
    "# Resume\n",
    "## Name: Jainam Shah\n",
    "\n",
    "### Contacts\n",
    "#### Phone Number: +91 8320363975\n",
    "shah1jainam@gmail.com\n",
    "\n",
    "[LinkedIn](https://www.linkedin.com/in/jainam-1-shah/ \"Checkout my LinkedIn Profile\")\n",
    "\n",
    "[GitHub](https://github.com/jainam108 \"View my projects here\")  "
   ]
  },
  {
   "cell_type": "markdown",
   "metadata": {},
   "source": [
    "# Profile Summary\n",
    "A well-seasoned Software Engineer with the following skills in my techstack:\n",
    "1) Java (Java 11) <br>\n",
    "2) Spring/Springboot (Spring MVC, Spring Web, Spring Security, Spring Data, Spring Batch Jobs) <br>\n",
    "3) Microservices Development <br>\n",
    "4) Microsoft Azure Function Apps <br>\n",
    "5) Apache Kafka <br>\n",
    "6) Gherkin BDDs <br>\n",
    "7) Monitoring tools: Grafana, Splunk <br>\n",
    "8) Junits (Mockito) <br>\n",
    "9) Agile Methodology <br>\n",
    "10) And as you can see, I'm something of a Python coder myself :D"
   ]
  },
  {
   "cell_type": "markdown",
   "metadata": {},
   "source": [
    "# Education"
   ]
  },
  {
   "cell_type": "code",
   "execution_count": 4,
   "metadata": {},
   "outputs": [
    {
     "data": {
      "text/html": [
       "<div>\n",
       "<style scoped>\n",
       "    .dataframe tbody tr th:only-of-type {\n",
       "        vertical-align: middle;\n",
       "    }\n",
       "\n",
       "    .dataframe tbody tr th {\n",
       "        vertical-align: top;\n",
       "    }\n",
       "\n",
       "    .dataframe thead th {\n",
       "        text-align: right;\n",
       "    }\n",
       "</style>\n",
       "<table border=\"1\" class=\"dataframe\">\n",
       "  <thead>\n",
       "    <tr style=\"text-align: right;\">\n",
       "      <th></th>\n",
       "      <th>Levels</th>\n",
       "      <th>Education</th>\n",
       "      <th>Degree</th>\n",
       "      <th>Field</th>\n",
       "      <th>CGPA/%</th>\n",
       "    </tr>\n",
       "  </thead>\n",
       "  <tbody>\n",
       "    <tr>\n",
       "      <th>0</th>\n",
       "      <td>College</td>\n",
       "      <td>Government Engineering College, Gandhinagar</td>\n",
       "      <td>Bachelor of Engineering</td>\n",
       "      <td>Instrumentation &amp; Control</td>\n",
       "      <td>8.65</td>\n",
       "    </tr>\n",
       "    <tr>\n",
       "      <th>1</th>\n",
       "      <td>School</td>\n",
       "      <td>Gujarat State Board</td>\n",
       "      <td>Higher Secondary Certificate</td>\n",
       "      <td>12th Class</td>\n",
       "      <td>75.07%</td>\n",
       "    </tr>\n",
       "    <tr>\n",
       "      <th>2</th>\n",
       "      <td>School</td>\n",
       "      <td>Gujarat State Board</td>\n",
       "      <td>Secondary School Certificate</td>\n",
       "      <td>10th Class</td>\n",
       "      <td>77.50%</td>\n",
       "    </tr>\n",
       "  </tbody>\n",
       "</table>\n",
       "</div>"
      ],
      "text/plain": [
       "    Levels                                    Education  \\\n",
       "0  College  Government Engineering College, Gandhinagar   \n",
       "1   School                          Gujarat State Board   \n",
       "2   School                          Gujarat State Board   \n",
       "\n",
       "                          Degree                       Field  CGPA/%  \n",
       "0        Bachelor of Engineering   Instrumentation & Control    8.65  \n",
       "1  Higher Secondary Certificate                   12th Class  75.07%  \n",
       "2  Secondary School Certificate                   10th Class  77.50%  "
      ]
     },
     "execution_count": 4,
     "metadata": {},
     "output_type": "execute_result"
    }
   ],
   "source": [
    "#Education\n",
    "import pandas as pd\n",
    "df = pd.read_csv(\"Education.csv\")\n",
    "df.head(4)"
   ]
  },
  {
   "cell_type": "markdown",
   "metadata": {},
   "source": [
    "# Work Experience"
   ]
  },
  {
   "cell_type": "code",
   "execution_count": 7,
   "metadata": {},
   "outputs": [
    {
     "data": {
      "text/html": [
       "<div>\n",
       "<style scoped>\n",
       "    .dataframe tbody tr th:only-of-type {\n",
       "        vertical-align: middle;\n",
       "    }\n",
       "\n",
       "    .dataframe tbody tr th {\n",
       "        vertical-align: top;\n",
       "    }\n",
       "\n",
       "    .dataframe thead th {\n",
       "        text-align: right;\n",
       "    }\n",
       "</style>\n",
       "<table border=\"1\" class=\"dataframe\">\n",
       "  <thead>\n",
       "    <tr style=\"text-align: right;\">\n",
       "      <th></th>\n",
       "      <th>Role</th>\n",
       "      <th>Company</th>\n",
       "      <th>Tenure</th>\n",
       "    </tr>\n",
       "  </thead>\n",
       "  <tbody>\n",
       "    <tr>\n",
       "      <th>0</th>\n",
       "      <td>Application Development Analyst (Custom Softwa...</td>\n",
       "      <td>Accenture</td>\n",
       "      <td>Mar 2023 - Present</td>\n",
       "    </tr>\n",
       "    <tr>\n",
       "      <th>1</th>\n",
       "      <td>Application Development Associate</td>\n",
       "      <td>Accenture</td>\n",
       "      <td>Oct 2021 - Mar 2023</td>\n",
       "    </tr>\n",
       "    <tr>\n",
       "      <th>2</th>\n",
       "      <td>Onboarding Trainee</td>\n",
       "      <td>Accenture</td>\n",
       "      <td>June 2021 - Oct 2021</td>\n",
       "    </tr>\n",
       "  </tbody>\n",
       "</table>\n",
       "</div>"
      ],
      "text/plain": [
       "                                                Role    Company  \\\n",
       "0  Application Development Analyst (Custom Softwa...  Accenture   \n",
       "1                  Application Development Associate  Accenture   \n",
       "2                                 Onboarding Trainee  Accenture   \n",
       "\n",
       "                 Tenure  \n",
       "0    Mar 2023 - Present  \n",
       "1   Oct 2021 - Mar 2023  \n",
       "2  June 2021 - Oct 2021  "
      ]
     },
     "execution_count": 7,
     "metadata": {},
     "output_type": "execute_result"
    }
   ],
   "source": [
    "#Work Experience\n",
    "wrk_exp = pd.read_csv(\"Experience.csv\")\n",
    "wrk_exp.head()"
   ]
  },
  {
   "cell_type": "markdown",
   "metadata": {},
   "source": [
    "# Detailed Work experience:\n",
    "## Over my 2 something years (2 years, 7 months) at Accenture, I've done lots of things, like lots of, fr fr\n",
    "### - I got onboarded to a Global Capital Markets Client's account, where I've designed Data Pipeline Scripts on python (while I was being trained on Java, fresh outta university), and apart from it I've designed PPTs that we used to share to the client (I've always been super confident about my creativity).\n",
    "\n",
    "### - Once the trainings were completed and the project work started, I authored Cucumber's Gherkin Behavioural Driven Development test cases for all the project APIs and supported top-tier development which resonated to Business requirements.\n",
    "\n",
    "### - Not only I looked over the code which resonated the business requirements, I written the code with-holding the same standards. Not to brag, but I was the sole associate, the project leads selected in the freshly formed team to design and develop an entitlements API from scratch (got a good edge in Research, design process, client communication). \n",
    "### Researched the implementation, designed and developed an API call to a SOAP service from a REST service.\n",
    "### Co-Authored Spring Batch jobs with the senior developer.\n",
    "\n",
    "### - After all this amazing work, I was promoted to Analyst level in March 2023.\n",
    "### - Alright guys, now the project was about to be completed, code work for APIs was nearly finished, now we had to configure our codebase and database to tools that would help us in managing the overall performance and health. \n",
    "###  The database node kept going down and down. Our dedicated DB guy was super-frustrated by this cause now since the project was over, we had to maintain the codebase in all the environments (DEV, QA, PROD, PERF). So, I took initiative to configure a \"Grafana DB Monitoring alert system\" & whenever a DB node went down, within 5 second it will send you an email and then we would do an RCA and get the node back up.\n",
    "\n",
    "\n",
    "### Then the project ended. Then, I got selected in a new project with a different client. This time I got into healthcare and insurance.\n",
    "### - Basically, a Data Pipeline project, you take data either from Kafka topic or file-based ingestion or sometimes an HTTP call, you get the data, perform necessary transformations or DB lookups and/or updates and then publish the data to the destination Kafka topic or send it back to an API or a platform via an HTTP Post call.\n",
    "### - Here, I was a part of 3 different teams, from which I led 2 of those and 1 of them was freshly formed to implement a fresh new pipeline.\n",
    "### - Apart from creating these function apps every sprint, now I took care of Infra-provisioning tasks for the newly formed team, and managed the whole team with their tasks and discussed the designing of the flow with the onshore solution architects and provided guidance to the rest of the team.\n",
    "\n",
    "### presently this is my role :)\n"
   ]
  },
  {
   "cell_type": "code",
   "execution_count": 2,
   "metadata": {},
   "outputs": [
    {
     "data": {
      "text/html": [
       "<div>\n",
       "<style scoped>\n",
       "    .dataframe tbody tr th:only-of-type {\n",
       "        vertical-align: middle;\n",
       "    }\n",
       "\n",
       "    .dataframe tbody tr th {\n",
       "        vertical-align: top;\n",
       "    }\n",
       "\n",
       "    .dataframe thead th {\n",
       "        text-align: right;\n",
       "    }\n",
       "</style>\n",
       "<table border=\"1\" class=\"dataframe\">\n",
       "  <thead>\n",
       "    <tr style=\"text-align: right;\">\n",
       "      <th></th>\n",
       "      <th>Company</th>\n",
       "      <th>Role</th>\n",
       "      <th>Duration</th>\n",
       "    </tr>\n",
       "  </thead>\n",
       "  <tbody>\n",
       "    <tr>\n",
       "      <th>0</th>\n",
       "      <td>1stop.ai</td>\n",
       "      <td>Machine Learning Trainee</td>\n",
       "      <td>Apr 2021 - May 2021</td>\n",
       "    </tr>\n",
       "    <tr>\n",
       "      <th>1</th>\n",
       "      <td>The Sparks Foundation</td>\n",
       "      <td>Data Science &amp; Business Analytics Intern</td>\n",
       "      <td>Mar-21</td>\n",
       "    </tr>\n",
       "  </tbody>\n",
       "</table>\n",
       "</div>"
      ],
      "text/plain": [
       "                 Company                                      Role  \\\n",
       "0              1stop.ai                   Machine Learning Trainee   \n",
       "1  The Sparks Foundation  Data Science & Business Analytics Intern   \n",
       "\n",
       "              Duration  \n",
       "0  Apr 2021 - May 2021  \n",
       "1               Mar-21  "
      ]
     },
     "execution_count": 2,
     "metadata": {},
     "output_type": "execute_result"
    }
   ],
   "source": [
    "#Internships\n",
    "df1 = pd.read_csv(\"Internships.csv\")\n",
    "df1.head()\n",
    "#P.S: Please check next cell for a brief description of my Internships"
   ]
  },
  {
   "cell_type": "markdown",
   "metadata": {},
   "source": [
    "Brief description of my internships.\n",
    "\n",
    "### 1) Machine Learning Training at 1stop.ai:\n",
    "\n",
    "###### Enrolled into training for Machine Learning at 1stop.ai in association with E-Cell, Indian Institute of Technology, Kanpur\n",
    "\n",
    "Finished the provided module & tasks before two months of deadline.\n",
    "The Tasks:\n",
    "\n",
    "A) __Gmail Spam Detection using Natural Language processing(NLP)__: Built a predictive model to predict whether a mail is spam or not. Achieved **accuracy of 87.5%**.\n",
    "\n",
    "B) __Diabetes Prediction using Machine Learning__: Built a Classifier model which classifies whether a person has diabetes or not based on the given parameters. Achieved accuracy of **96.00% (Logistic Regression) and 88.00% (Random Forest & kNN)**.\n",
    "\n",
    "\n",
    "### 2) Data Science & Business Analytics Internship at The Sparks Foundation:\n",
    "\n",
    "###### Finished 5 tasks of Machine Learning & Data Analytics over a period on one month.\n",
    "\n",
    "The Tasks were based on Supervised & Unsupervised Machine Learning, Exploratory Data Analytics. Some of the tasks were:\n",
    "\n",
    "A) __Exploratory Data Analysis in Defence__: As a security/defense analyst, I analysed \"Global Terrorism\" Dataset where I found valuable insights about hot zone of terrorist activities & victims. \n",
    " \n",
    "B) __Exploratory Data Analysis in Retail__: As a business manager, I analysed the weak areas needed to improve to make more profit. \n",
    "\n",
    "C) __IRIS Dataset for Unsupervised ML__: Predicted the classes of the flowers based on given parameters such as Sepal width, length & Petal width, length. Algorithms used: **k-Means Clustering & Decision Trees**.\n"
   ]
  },
  {
   "cell_type": "markdown",
   "metadata": {},
   "source": [
    "# Other Projects"
   ]
  },
  {
   "cell_type": "markdown",
   "metadata": {},
   "source": [
    "### 1) Academic Project: Non-Invasive Glucometer - Healthcare Technology Domain\n",
    "**Concept**: Engineered a device which measures Blood Glucose levels in a pain-free manner instead of traditional finger pricking method.\n",
    "\n",
    "**My responsibilities**: Python programming in Microcontroller & Regression Analysis of Data Model **(achieved accuracy over 96%)**.\n",
    "\n",
    "### 2) Census Income Prediction Project from Kaggle\n",
    "\n",
    "Built a model that predicts whether a person has an income above USD 50k. Achieved accuracy of **83.66% with Logistic Regression** and **85.51% with Random Forest.** "
   ]
  },
  {
   "cell_type": "markdown",
   "metadata": {},
   "source": [
    "# Roles of Responsibility"
   ]
  },
  {
   "cell_type": "code",
   "execution_count": 3,
   "metadata": {},
   "outputs": [
    {
     "name": "stdout",
     "output_type": "stream",
     "text": [
      "                               Role                Organization\n",
      "0  Founding Member & Vice President  GECG ISA Students' Chapter\n",
      "1       Volunteer/Senior Instructor              Invincible NGO\n"
     ]
    }
   ],
   "source": [
    "#Roles of Responsibility\n",
    "ror = {\n",
    "  'Role': [\"Founding Member & Vice President\", \"Volunteer/Senior Instructor\"],\n",
    "  'Organization': [\"GECG ISA Students' Chapter\", \"Invincible NGO\"]\n",
    "}\n",
    "print(pd.DataFrame(ror))\n",
    "#Please check next cell for a brief description of my Roles of Responsibility."
   ]
  },
  {
   "cell_type": "markdown",
   "metadata": {},
   "source": [
    "### Roles of Responsibility \n",
    "\n",
    "#### 1) Founding Member & Vice President at GECG International Society of Automation (ISA) Students' Chapter (Mar 2019 - Aug 2020)\n",
    "\n",
    "   • Took Initiative in establishing International Society of Automation (ISA) Students' Chapter in our college by core team\n",
    "      of 5 students and ended up leading whole chapter of 20 students.\n",
    "\n",
    "   • We organised several events such as Industrial visit at Amul Chocolate factory at Anand, Seminars &\n",
    "      Webinars(in lockdown).\n",
    "    \n",
    "#### 2) Volunteer/Senior Instructor at Invincible NGO (Feb 2019 - Present)\n",
    "\n",
    "   • Volunteered at Invincible NGO as a Camp Instructor, where I managed average 75+ participants per camp, praised by\n",
    "      management for excellent service.\n",
    "   \n",
    "   • My responsibilities include managing finances(average ₹30k+ per camp) provided by the NGO, solving on-camp\n",
    "      problems of participants and oversee the camps I'm leading."
   ]
  },
  {
   "cell_type": "markdown",
   "metadata": {},
   "source": [
    "# Skills"
   ]
  },
  {
   "cell_type": "code",
   "execution_count": 8,
   "metadata": {
    "scrolled": false
   },
   "outputs": [
    {
     "name": "stdout",
     "output_type": "stream",
     "text": [
      "                Technical Skills\n",
      "0                           Java\n",
      "1       Springboot Microservices\n",
      "2  Microsoft Azure Function apps\n",
      "3                   Apache Kafka\n",
      "4        Mockito Unit test cases\n",
      "5                         Python\n",
      "6                Problem Solving\n",
      "7                     Creativity\n"
     ]
    },
    {
     "data": {
      "text/plain": [
       "Text(0, 0.5, 'skills')"
      ]
     },
     "execution_count": 8,
     "metadata": {},
     "output_type": "execute_result"
    },
    {
     "data": {
      "text/plain": [
       "<Figure size 720x1080 with 0 Axes>"
      ]
     },
     "metadata": {},
     "output_type": "display_data"
    },
    {
     "data": {
      "image/png": "[encoded data removed]",
      "text/plain": [
       "<Figure size 432x288 with 1 Axes>"
      ]
     },
     "metadata": {
      "needs_background": "light"
     },
     "output_type": "display_data"
    }
   ],
   "source": [
    "#Technical skills\n",
    "ts = {\n",
    "    \"Technical Skills\" : [\"Java\", \"Springboot Microservices\", \"Microsoft Azure Function apps\", \n",
    "                          \"Apache Kafka\", \"Mockito Unit test cases\", \"Python\", \"Problem Solving\", \"Creativity\"]\n",
    "}\n",
    "print(pd.DataFrame(ts))\n",
    "\n",
    "#Skill visualization\n",
    "import matplotlib.pyplot as plt\n",
    "df2 = pd.read_csv(\"Skills.csv\")\n",
    "plt.figure(figsize= (10,15))\n",
    "df2.groupby('Skills')['Skill level (%)'].agg(['sum']).plot.barh()\n",
    "plt.xlabel(\"Skill level\")\n",
    "plt.ylabel(\"skills\")\n",
    "#Please chech the next cell for in-depth details of Python, ML & Tools and Software"
   ]
  },
  {
   "cell_type": "code",
   "execution_count": 10,
   "metadata": {},
   "outputs": [
    {
     "data": {
      "text/html": [
       "<div>\n",
       "<style scoped>\n",
       "    .dataframe tbody tr th:only-of-type {\n",
       "        vertical-align: middle;\n",
       "    }\n",
       "\n",
       "    .dataframe tbody tr th {\n",
       "        vertical-align: top;\n",
       "    }\n",
       "\n",
       "    .dataframe thead th {\n",
       "        text-align: right;\n",
       "    }\n",
       "</style>\n",
       "<table border=\"1\" class=\"dataframe\">\n",
       "  <thead>\n",
       "    <tr style=\"text-align: right;\">\n",
       "      <th></th>\n",
       "      <th>Python Libraries</th>\n",
       "      <th>Machine Learning Algorithms</th>\n",
       "      <th>Tools and Software</th>\n",
       "    </tr>\n",
       "  </thead>\n",
       "  <tbody>\n",
       "    <tr>\n",
       "      <th>0</th>\n",
       "      <td>Pandas</td>\n",
       "      <td>Linear Regression</td>\n",
       "      <td>Tableau</td>\n",
       "    </tr>\n",
       "    <tr>\n",
       "      <th>1</th>\n",
       "      <td>NumPy</td>\n",
       "      <td>Logistic Regression</td>\n",
       "      <td>MS Excel</td>\n",
       "    </tr>\n",
       "    <tr>\n",
       "      <th>2</th>\n",
       "      <td>Matplotlib</td>\n",
       "      <td>k-Means Clustering</td>\n",
       "      <td>MS Word</td>\n",
       "    </tr>\n",
       "    <tr>\n",
       "      <th>3</th>\n",
       "      <td>scikit-learn</td>\n",
       "      <td>k Nearest Neighbor</td>\n",
       "      <td>MS Powerpoint</td>\n",
       "    </tr>\n",
       "    <tr>\n",
       "      <th>4</th>\n",
       "      <td>NLTK</td>\n",
       "      <td>Decision Trees</td>\n",
       "      <td>Jupyter Notebook &amp; PyCharm</td>\n",
       "    </tr>\n",
       "    <tr>\n",
       "      <th>5</th>\n",
       "      <td>Seaborn</td>\n",
       "      <td>Random Forest</td>\n",
       "      <td>Google Sheets &amp; Google Slides</td>\n",
       "    </tr>\n",
       "  </tbody>\n",
       "</table>\n",
       "</div>"
      ],
      "text/plain": [
       "  Python Libraries Machine Learning Algorithms             Tools and Software\n",
       "0           Pandas           Linear Regression                        Tableau\n",
       "1            NumPy         Logistic Regression                       MS Excel\n",
       "2       Matplotlib          k-Means Clustering                        MS Word\n",
       "3     scikit-learn          k Nearest Neighbor                  MS Powerpoint\n",
       "4             NLTK              Decision Trees     Jupyter Notebook & PyCharm\n",
       "5          Seaborn               Random Forest  Google Sheets & Google Slides"
      ]
     },
     "execution_count": 10,
     "metadata": {},
     "output_type": "execute_result"
    }
   ],
   "source": [
    "df3 = pd.read_csv(\"skillset.csv\")\n",
    "df3.head(6)\n",
    "#you heard about java, I've worked on these tech-stacks in my internships of Data Science & Machine Learning"
   ]
  },
  {
   "cell_type": "code",
   "execution_count": 17,
   "metadata": {
    "scrolled": true
   },
   "outputs": [
    {
     "name": "stdout",
     "output_type": "stream",
     "text": [
      "['Soft skills: ' 'Analytical Skills' 'Leadership & Management'\n",
      " 'Written & Verbal Communication']\n"
     ]
    }
   ],
   "source": [
    "#Softskills\n",
    "import numpy as np\n",
    "ss = np.array([\"Soft skills: \", \"Analytical Skills\", \"Leadership & Management\", \"Written & Verbal Communication\"])\n",
    "print(ss)"
   ]
  },
  {
   "cell_type": "markdown",
   "metadata": {},
   "source": [
    "# Certifications"
   ]
  },
  {
   "cell_type": "markdown",
   "metadata": {},
   "source": [
    "## Data Analytics Consulting at KPMG\n",
    "KPMG Data Analytics Consulting\n",
    "(May’21 – 5 Hours)\n",
    "Participated in the open access KPMG Virtual Experience Program with Forage.\n",
    "\n",
    "Tasks:\n",
    "\n",
    "• Data Quality Analysis & Data \n",
    "Cleaning. \n",
    "\n",
    "• Data Exploration & Customer \n",
    "segmentation. \n",
    "\n",
    "• Data visualization dashboards \n",
    "in **Tableau**."
   ]
  },
  {
   "cell_type": "markdown",
   "metadata": {},
   "source": [
    "# Interests"
   ]
  },
  {
   "cell_type": "code",
   "execution_count": 18,
   "metadata": {
    "scrolled": true
   },
   "outputs": [
    {
     "name": "stdout",
     "output_type": "stream",
     "text": [
      "['Tech Interests: Data Science & Analytics' 'Product Management'\n",
      " 'Java Development' 'Machine Learning']\n",
      "['Athletic & Creative Interests: Guitar' 'Badminton' 'Drumming']\n",
      "I was a lead guitarist in a local band called 'Revival Music Crew.'\n"
     ]
    }
   ],
   "source": [
    "#TECH INTERESTS:\n",
    "ti = np.array(['Tech Interests: ' \"Data Science & Analytics\", \"Product Management\", \"Java Development\", \"Machine Learning\"])\n",
    "#ATHLETIC & CREATIVE INTERESTS\n",
    "aci = np.array([\"Athletic & Creative Interests: \" \"Guitar\", \"Badminton\", \"Drumming\"])\n",
    "print(ti)\n",
    "print(aci)\n",
    "print(\"I was a lead guitarist in a local band called 'Revival Music Crew.'\")"
   ]
  }
 ],
 "metadata": {
  "kernelspec": {
   "display_name": "Python 3",
   "language": "python",
   "name": "python3"
  },
  "language_info": {
   "codemirror_mode": {
    "name": "ipython",
    "version": 3
   },
   "file_extension": ".py",
   "mimetype": "text/x-python",
   "name": "python",
   "nbconvert_exporter": "python",
   "pygments_lexer": "ipython3",
   "version": "3.8.5"
  }
 },
 "nbformat": 4,
 "nbformat_minor": 4
}
